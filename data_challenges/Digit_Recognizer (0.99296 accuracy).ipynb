{
 "cells": [
  {
   "cell_type": "code",
   "execution_count": 1,
   "id": "29708614",
   "metadata": {
    "execution": {
     "iopub.execute_input": "2021-12-10T10:43:14.270498Z",
     "iopub.status.busy": "2021-12-10T10:43:14.269360Z",
     "iopub.status.idle": "2021-12-10T10:43:18.845552Z",
     "shell.execute_reply": "2021-12-10T10:43:18.844585Z",
     "shell.execute_reply.started": "2021-12-10T10:25:25.007727Z"
    },
    "papermill": {
     "duration": 4.60772,
     "end_time": "2021-12-10T10:43:18.845723",
     "exception": false,
     "start_time": "2021-12-10T10:43:14.238003",
     "status": "completed"
    },
    "tags": []
   },
   "outputs": [],
   "source": [
    "import numpy as np \n",
    "import pandas as pd \n",
    "import os \n",
    "import matplotlib.pyplot as plt\n",
    "from keras.utils.np_utils import to_categorical"
   ]
  },
  {
   "cell_type": "code",
   "execution_count": 2,
   "id": "3fdef894",
   "metadata": {
    "execution": {
     "iopub.execute_input": "2021-12-10T10:43:18.875629Z",
     "iopub.status.busy": "2021-12-10T10:43:18.874632Z",
     "iopub.status.idle": "2021-12-10T10:43:18.878779Z",
     "shell.execute_reply": "2021-12-10T10:43:18.878268Z",
     "shell.execute_reply.started": "2021-12-10T10:25:26.193656Z"
    },
    "papermill": {
     "duration": 0.019459,
     "end_time": "2021-12-10T10:43:18.878884",
     "exception": false,
     "start_time": "2021-12-10T10:43:18.859425",
     "status": "completed"
    },
    "tags": []
   },
   "outputs": [
    {
     "name": "stdout",
     "output_type": "stream",
     "text": [
      "/kaggle/input/digit-recognizer/sample_submission.csv\n",
      "/kaggle/input/digit-recognizer/train.csv\n",
      "/kaggle/input/digit-recognizer/test.csv\n"
     ]
    }
   ],
   "source": [
    "import os\n",
    "for dirname, _, filenames in os.walk('/kaggle/input'):\n",
    "    for filename in filenames:\n",
    "        print(os.path.join(dirname, filename))"
   ]
  },
  {
   "cell_type": "code",
   "execution_count": 3,
   "id": "41bfbae1",
   "metadata": {
    "execution": {
     "iopub.execute_input": "2021-12-10T10:43:18.905953Z",
     "iopub.status.busy": "2021-12-10T10:43:18.905372Z",
     "iopub.status.idle": "2021-12-10T10:43:23.872903Z",
     "shell.execute_reply": "2021-12-10T10:43:23.872401Z",
     "shell.execute_reply.started": "2021-12-10T10:25:27.485758Z"
    },
    "papermill": {
     "duration": 4.982498,
     "end_time": "2021-12-10T10:43:23.873035",
     "exception": false,
     "start_time": "2021-12-10T10:43:18.890537",
     "status": "completed"
    },
    "tags": []
   },
   "outputs": [],
   "source": [
    "df = pd.read_csv('../input/digit-recognizer/train.csv')\n",
    "df_test = pd.read_csv('../input/digit-recognizer/test.csv')"
   ]
  },
  {
   "cell_type": "code",
   "execution_count": 4,
   "id": "d492dd63",
   "metadata": {
    "execution": {
     "iopub.execute_input": "2021-12-10T10:43:23.906513Z",
     "iopub.status.busy": "2021-12-10T10:43:23.905557Z",
     "iopub.status.idle": "2021-12-10T10:43:23.991845Z",
     "shell.execute_reply": "2021-12-10T10:43:23.991380Z",
     "shell.execute_reply.started": "2021-12-10T10:25:31.071954Z"
    },
    "papermill": {
     "duration": 0.106685,
     "end_time": "2021-12-10T10:43:23.991996",
     "exception": false,
     "start_time": "2021-12-10T10:43:23.885311",
     "status": "completed"
    },
    "tags": []
   },
   "outputs": [],
   "source": [
    "Y = df.label\n",
    "Y = to_categorical(Y, num_classes=10)\n",
    "X = df.drop(columns='label').values\n",
    "\n",
    "X_test = df_test.values"
   ]
  },
  {
   "cell_type": "code",
   "execution_count": 5,
   "id": "4451b076",
   "metadata": {
    "execution": {
     "iopub.execute_input": "2021-12-10T10:43:24.023500Z",
     "iopub.status.busy": "2021-12-10T10:43:24.022593Z",
     "iopub.status.idle": "2021-12-10T10:43:24.024729Z",
     "shell.execute_reply": "2021-12-10T10:43:24.025268Z",
     "shell.execute_reply.started": "2021-12-10T10:25:31.156681Z"
    },
    "papermill": {
     "duration": 0.02068,
     "end_time": "2021-12-10T10:43:24.025408",
     "exception": false,
     "start_time": "2021-12-10T10:43:24.004728",
     "status": "completed"
    },
    "tags": []
   },
   "outputs": [],
   "source": [
    "X = X.reshape(-1,28,28,1)\n",
    "X_test = X_test.reshape(-1,28,28,1)"
   ]
  },
  {
   "cell_type": "code",
   "execution_count": 6,
   "id": "ad981701",
   "metadata": {
    "execution": {
     "iopub.execute_input": "2021-12-10T10:43:24.057835Z",
     "iopub.status.busy": "2021-12-10T10:43:24.057182Z",
     "iopub.status.idle": "2021-12-10T10:43:24.258807Z",
     "shell.execute_reply": "2021-12-10T10:43:24.259266Z",
     "shell.execute_reply.started": "2021-12-10T10:25:31.501734Z"
    },
    "papermill": {
     "duration": 0.221244,
     "end_time": "2021-12-10T10:43:24.259426",
     "exception": false,
     "start_time": "2021-12-10T10:43:24.038182",
     "status": "completed"
    },
    "tags": []
   },
   "outputs": [
    {
     "data": {
      "text/plain": [
       "<matplotlib.image.AxesImage at 0x7f6a7a027ad0>"
      ]
     },
     "execution_count": 6,
     "metadata": {},
     "output_type": "execute_result"
    },
    {
     "data": {
      "image/png": "[encoded data removed]",
      "text/plain": [
       "<Figure size 432x288 with 1 Axes>"
      ]
     },
     "metadata": {
      "needs_background": "light"
     },
     "output_type": "display_data"
    }
   ],
   "source": [
    "plt.imshow(X[267].reshape(28,28))"
   ]
  },
  {
   "cell_type": "code",
   "execution_count": 7,
   "id": "0f651f9b",
   "metadata": {
    "execution": {
     "iopub.execute_input": "2021-12-10T10:43:24.289542Z",
     "iopub.status.busy": "2021-12-10T10:43:24.288905Z",
     "iopub.status.idle": "2021-12-10T10:43:25.152736Z",
     "shell.execute_reply": "2021-12-10T10:43:25.151841Z",
     "shell.execute_reply.started": "2021-12-10T10:24:03.958649Z"
    },
    "papermill": {
     "duration": 0.880658,
     "end_time": "2021-12-10T10:43:25.152882",
     "exception": false,
     "start_time": "2021-12-10T10:43:24.272224",
     "status": "completed"
    },
    "tags": []
   },
   "outputs": [],
   "source": [
    "from tensorflow.keras.models import Sequential\n",
    "from tensorflow.keras.layers import Dense, Dropout, Conv2D, MaxPool2D, Flatten\n",
    "from tensorflow.keras.preprocessing.image import ImageDataGenerator\n",
    "import tensorflow as tf\n",
    "from sklearn.model_selection import train_test_split\n",
    "from tensorflow.keras.optimizers import Adam\n",
    "from keras.callbacks import ReduceLROnPlateau"
   ]
  },
  {
   "cell_type": "code",
   "execution_count": 8,
   "id": "9ba6caf5",
   "metadata": {
    "execution": {
     "iopub.execute_input": "2021-12-10T10:43:25.185406Z",
     "iopub.status.busy": "2021-12-10T10:43:25.184277Z",
     "iopub.status.idle": "2021-12-10T10:43:25.557095Z",
     "shell.execute_reply": "2021-12-10T10:43:25.556606Z",
     "shell.execute_reply.started": "2021-12-10T10:25:34.321079Z"
    },
    "papermill": {
     "duration": 0.391655,
     "end_time": "2021-12-10T10:43:25.557264",
     "exception": false,
     "start_time": "2021-12-10T10:43:25.165609",
     "status": "completed"
    },
    "tags": []
   },
   "outputs": [],
   "source": [
    "X_train, X_val, y_train, y_val = train_test_split(X,Y)"
   ]
  },
  {
   "cell_type": "code",
   "execution_count": 9,
   "id": "1a6eb74e",
   "metadata": {
    "execution": {
     "iopub.execute_input": "2021-12-10T10:43:25.589864Z",
     "iopub.status.busy": "2021-12-10T10:43:25.588904Z",
     "iopub.status.idle": "2021-12-10T10:43:25.645202Z",
     "shell.execute_reply": "2021-12-10T10:43:25.644663Z",
     "shell.execute_reply.started": "2021-12-10T10:25:35.332494Z"
    },
    "papermill": {
     "duration": 0.075242,
     "end_time": "2021-12-10T10:43:25.645349",
     "exception": false,
     "start_time": "2021-12-10T10:43:25.570107",
     "status": "completed"
    },
    "tags": []
   },
   "outputs": [],
   "source": [
    "train_datagen = ImageDataGenerator(rotation_range=20,\n",
    "                                   rescale=1./255,\n",
    "                                zoom_range = 0.1,\n",
    "                                   width_shift_range=0.2,\n",
    "                                    height_shift_range=0.2,\n",
    "                                    shear_range=0.15,\n",
    "                                    horizontal_flip=False,\n",
    "                                    fill_mode=\"nearest\")\n",
    "test_datagen = ImageDataGenerator(rescale=1./255)\n",
    "\n",
    "train_generator = train_datagen.flow(X_train, y_train, batch_size=32)\n",
    "val_generator = train_datagen.flow(X_val, y_val, batch_size=32)\n"
   ]
  },
  {
   "cell_type": "code",
   "execution_count": 10,
   "id": "0825fb7b",
   "metadata": {
    "execution": {
     "iopub.execute_input": "2021-12-10T10:43:25.678670Z",
     "iopub.status.busy": "2021-12-10T10:43:25.677928Z",
     "iopub.status.idle": "2021-12-10T10:43:28.150316Z",
     "shell.execute_reply": "2021-12-10T10:43:28.150966Z",
     "shell.execute_reply.started": "2021-12-10T10:25:36.864850Z"
    },
    "papermill": {
     "duration": 2.493016,
     "end_time": "2021-12-10T10:43:28.151217",
     "exception": false,
     "start_time": "2021-12-10T10:43:25.658201",
     "status": "completed"
    },
    "tags": []
   },
   "outputs": [
    {
     "name": "stderr",
     "output_type": "stream",
     "text": [
      "2021-12-10 10:43:25.749952: I tensorflow/stream_executor/cuda/cuda_gpu_executor.cc:937] successful NUMA node read from SysFS had negative value (-1), but there must be at least one NUMA node, so returning NUMA node zero\n",
      "2021-12-10 10:43:25.840009: I tensorflow/stream_executor/cuda/cuda_gpu_executor.cc:937] successful NUMA node read from SysFS had negative value (-1), but there must be at least one NUMA node, so returning NUMA node zero\n",
      "2021-12-10 10:43:25.840757: I tensorflow/stream_executor/cuda/cuda_gpu_executor.cc:937] successful NUMA node read from SysFS had negative value (-1), but there must be at least one NUMA node, so returning NUMA node zero\n",
      "2021-12-10 10:43:25.841902: I tensorflow/core/platform/cpu_feature_guard.cc:142] This TensorFlow binary is optimized with oneAPI Deep Neural Network Library (oneDNN) to use the following CPU instructions in performance-critical operations:  AVX2 AVX512F FMA\n",
      "To enable them in other operations, rebuild TensorFlow with the appropriate compiler flags.\n",
      "2021-12-10 10:43:25.843049: I tensorflow/stream_executor/cuda/cuda_gpu_executor.cc:937] successful NUMA node read from SysFS had negative value (-1), but there must be at least one NUMA node, so returning NUMA node zero\n",
      "2021-12-10 10:43:25.843741: I tensorflow/stream_executor/cuda/cuda_gpu_executor.cc:937] successful NUMA node read from SysFS had negative value (-1), but there must be at least one NUMA node, so returning NUMA node zero\n",
      "2021-12-10 10:43:25.844372: I tensorflow/stream_executor/cuda/cuda_gpu_executor.cc:937] successful NUMA node read from SysFS had negative value (-1), but there must be at least one NUMA node, so returning NUMA node zero\n",
      "2021-12-10 10:43:27.640725: I tensorflow/stream_executor/cuda/cuda_gpu_executor.cc:937] successful NUMA node read from SysFS had negative value (-1), but there must be at least one NUMA node, so returning NUMA node zero\n",
      "2021-12-10 10:43:27.641942: I tensorflow/stream_executor/cuda/cuda_gpu_executor.cc:937] successful NUMA node read from SysFS had negative value (-1), but there must be at least one NUMA node, so returning NUMA node zero\n",
      "2021-12-10 10:43:27.642876: I tensorflow/stream_executor/cuda/cuda_gpu_executor.cc:937] successful NUMA node read from SysFS had negative value (-1), but there must be at least one NUMA node, so returning NUMA node zero\n",
      "2021-12-10 10:43:27.643730: I tensorflow/core/common_runtime/gpu/gpu_device.cc:1510] Created device /job:localhost/replica:0/task:0/device:GPU:0 with 15403 MB memory:  -> device: 0, name: Tesla P100-PCIE-16GB, pci bus id: 0000:00:04.0, compute capability: 6.0\n"
     ]
    }
   ],
   "source": [
    "model = Sequential()\n",
    "model.add(Conv2D(filters=32,kernel_size=(3,3),activation='relu',input_shape=(28,28,1),padding='same'))\n",
    "model.add(MaxPool2D(2,2))\n",
    "model.add(Dropout(0.25))\n",
    "model.add(Conv2D(filters=32,kernel_size=(3,3),activation='relu',padding='same'))\n",
    "model.add(MaxPool2D(2,2))\n",
    "model.add(Dropout(0.25))\n",
    "model.add(Conv2D(filters=64,kernel_size=(3,3),activation='relu',padding='same'))\n",
    "model.add(MaxPool2D(2,2))\n",
    "model.add(Dropout(0.25))\n",
    "model.add(Flatten())\n",
    "model.add(Dense(units=100,activation='relu'))\n",
    "model.add(Dense(units=10,activation='softmax'))"
   ]
  },
  {
   "cell_type": "code",
   "execution_count": 11,
   "id": "9a418e9a",
   "metadata": {
    "execution": {
     "iopub.execute_input": "2021-12-10T10:43:28.201955Z",
     "iopub.status.busy": "2021-12-10T10:43:28.201171Z",
     "iopub.status.idle": "2021-12-10T10:43:28.206179Z",
     "shell.execute_reply": "2021-12-10T10:43:28.206774Z",
     "shell.execute_reply.started": "2021-12-10T10:25:39.204895Z"
    },
    "papermill": {
     "duration": 0.035358,
     "end_time": "2021-12-10T10:43:28.206952",
     "exception": false,
     "start_time": "2021-12-10T10:43:28.171594",
     "status": "completed"
    },
    "tags": []
   },
   "outputs": [
    {
     "name": "stdout",
     "output_type": "stream",
     "text": [
      "Model: \"sequential\"\n",
      "_________________________________________________________________\n",
      "Layer (type)                 Output Shape              Param #   \n",
      "=================================================================\n",
      "conv2d (Conv2D)              (None, 28, 28, 32)        320       \n",
      "_________________________________________________________________\n",
      "max_pooling2d (MaxPooling2D) (None, 14, 14, 32)        0         \n",
      "_________________________________________________________________\n",
      "dropout (Dropout)            (None, 14, 14, 32)        0         \n",
      "_________________________________________________________________\n",
      "conv2d_1 (Conv2D)            (None, 14, 14, 32)        9248      \n",
      "_________________________________________________________________\n",
      "max_pooling2d_1 (MaxPooling2 (None, 7, 7, 32)          0         \n",
      "_________________________________________________________________\n",
      "dropout_1 (Dropout)          (None, 7, 7, 32)          0         \n",
      "_________________________________________________________________\n",
      "conv2d_2 (Conv2D)            (None, 7, 7, 64)          18496     \n",
      "_________________________________________________________________\n",
      "max_pooling2d_2 (MaxPooling2 (None, 3, 3, 64)          0         \n",
      "_________________________________________________________________\n",
      "dropout_2 (Dropout)          (None, 3, 3, 64)          0         \n",
      "_________________________________________________________________\n",
      "flatten (Flatten)            (None, 576)               0         \n",
      "_________________________________________________________________\n",
      "dense (Dense)                (None, 100)               57700     \n",
      "_________________________________________________________________\n",
      "dense_1 (Dense)              (None, 10)                1010      \n",
      "=================================================================\n",
      "Total params: 86,774\n",
      "Trainable params: 86,774\n",
      "Non-trainable params: 0\n",
      "_________________________________________________________________\n"
     ]
    }
   ],
   "source": [
    "model.summary()"
   ]
  },
  {
   "cell_type": "code",
   "execution_count": 12,
   "id": "fb967c18",
   "metadata": {
    "execution": {
     "iopub.execute_input": "2021-12-10T10:43:28.276866Z",
     "iopub.status.busy": "2021-12-10T10:43:28.276114Z",
     "iopub.status.idle": "2021-12-10T10:43:28.284496Z",
     "shell.execute_reply": "2021-12-10T10:43:28.285062Z",
     "shell.execute_reply.started": "2021-12-10T10:25:41.478823Z"
    },
    "papermill": {
     "duration": 0.055604,
     "end_time": "2021-12-10T10:43:28.285256",
     "exception": false,
     "start_time": "2021-12-10T10:43:28.229652",
     "status": "completed"
    },
    "tags": []
   },
   "outputs": [],
   "source": [
    "model.compile(loss='categorical_crossentropy',optimizer=Adam(learning_rate=0.001),metrics=['accuracy'])"
   ]
  },
  {
   "cell_type": "code",
   "execution_count": 13,
   "id": "9aec636a",
   "metadata": {
    "execution": {
     "iopub.execute_input": "2021-12-10T10:43:28.331256Z",
     "iopub.status.busy": "2021-12-10T10:43:28.330318Z",
     "iopub.status.idle": "2021-12-10T10:50:36.097625Z",
     "shell.execute_reply": "2021-12-10T10:50:36.098079Z",
     "shell.execute_reply.started": "2021-12-10T10:25:43.598358Z"
    },
    "papermill": {
     "duration": 427.791997,
     "end_time": "2021-12-10T10:50:36.098294",
     "exception": false,
     "start_time": "2021-12-10T10:43:28.306297",
     "status": "completed"
    },
    "tags": []
   },
   "outputs": [
    {
     "name": "stderr",
     "output_type": "stream",
     "text": [
      "2021-12-10 10:43:28.436800: I tensorflow/compiler/mlir/mlir_graph_optimization_pass.cc:185] None of the MLIR Optimization Passes are enabled (registered 2)\n"
     ]
    },
    {
     "name": "stdout",
     "output_type": "stream",
     "text": [
      "Epoch 1/25\n"
     ]
    },
    {
     "name": "stderr",
     "output_type": "stream",
     "text": [
      "2021-12-10 10:43:29.884165: I tensorflow/stream_executor/cuda/cuda_dnn.cc:369] Loaded cuDNN version 8005\n"
     ]
    },
    {
     "name": "stdout",
     "output_type": "stream",
     "text": [
      "984/984 [==============================] - 22s 16ms/step - loss: 0.7782 - accuracy: 0.7396 - val_loss: 0.2344 - val_accuracy: 0.9303\n",
      "Epoch 2/25\n",
      "984/984 [==============================] - 16s 16ms/step - loss: 0.2914 - accuracy: 0.9093 - val_loss: 0.1549 - val_accuracy: 0.9523\n",
      "Epoch 3/25\n",
      "984/984 [==============================] - 16s 16ms/step - loss: 0.2159 - accuracy: 0.9326 - val_loss: 0.1400 - val_accuracy: 0.9572\n",
      "Epoch 4/25\n",
      "984/984 [==============================] - 17s 17ms/step - loss: 0.1741 - accuracy: 0.9455 - val_loss: 0.0967 - val_accuracy: 0.9690\n",
      "Epoch 5/25\n",
      "984/984 [==============================] - 16s 17ms/step - loss: 0.1576 - accuracy: 0.9523 - val_loss: 0.0868 - val_accuracy: 0.9719\n",
      "Epoch 6/25\n",
      "984/984 [==============================] - 17s 17ms/step - loss: 0.1453 - accuracy: 0.9549 - val_loss: 0.0810 - val_accuracy: 0.9750\n",
      "Epoch 7/25\n",
      "984/984 [==============================] - 16s 16ms/step - loss: 0.1316 - accuracy: 0.9597 - val_loss: 0.0902 - val_accuracy: 0.9719\n",
      "Epoch 8/25\n",
      "984/984 [==============================] - 17s 17ms/step - loss: 0.1249 - accuracy: 0.9614 - val_loss: 0.0720 - val_accuracy: 0.9766\n",
      "Epoch 9/25\n",
      "984/984 [==============================] - 15s 16ms/step - loss: 0.1121 - accuracy: 0.9644 - val_loss: 0.0604 - val_accuracy: 0.9795\n",
      "Epoch 10/25\n",
      "984/984 [==============================] - 17s 17ms/step - loss: 0.1112 - accuracy: 0.9651 - val_loss: 0.0639 - val_accuracy: 0.9804\n",
      "Epoch 11/25\n",
      "984/984 [==============================] - 15s 16ms/step - loss: 0.1054 - accuracy: 0.9668 - val_loss: 0.0572 - val_accuracy: 0.9825\n",
      "Epoch 12/25\n",
      "984/984 [==============================] - 16s 16ms/step - loss: 0.1022 - accuracy: 0.9688 - val_loss: 0.0622 - val_accuracy: 0.9811\n",
      "Epoch 13/25\n",
      "984/984 [==============================] - 16s 16ms/step - loss: 0.0953 - accuracy: 0.9714 - val_loss: 0.0531 - val_accuracy: 0.9831\n",
      "Epoch 14/25\n",
      "984/984 [==============================] - 18s 18ms/step - loss: 0.0941 - accuracy: 0.9699 - val_loss: 0.0469 - val_accuracy: 0.9851\n",
      "Epoch 15/25\n",
      "984/984 [==============================] - 17s 17ms/step - loss: 0.0929 - accuracy: 0.9707 - val_loss: 0.0523 - val_accuracy: 0.9836\n",
      "Epoch 16/25\n",
      "984/984 [==============================] - 16s 16ms/step - loss: 0.0930 - accuracy: 0.9710 - val_loss: 0.0555 - val_accuracy: 0.9821\n",
      "Epoch 17/25\n",
      "984/984 [==============================] - 16s 17ms/step - loss: 0.0897 - accuracy: 0.9723 - val_loss: 0.0500 - val_accuracy: 0.9850\n",
      "\n",
      "Epoch 00017: ReduceLROnPlateau reducing learning rate to 0.0005000000237487257.\n",
      "Epoch 18/25\n",
      "984/984 [==============================] - 16s 16ms/step - loss: 0.0771 - accuracy: 0.9763 - val_loss: 0.0457 - val_accuracy: 0.9862\n",
      "Epoch 19/25\n",
      "984/984 [==============================] - 16s 17ms/step - loss: 0.0740 - accuracy: 0.9771 - val_loss: 0.0429 - val_accuracy: 0.9861\n",
      "Epoch 20/25\n",
      "984/984 [==============================] - 16s 17ms/step - loss: 0.0718 - accuracy: 0.9777 - val_loss: 0.0495 - val_accuracy: 0.9849\n",
      "Epoch 21/25\n",
      "984/984 [==============================] - 16s 16ms/step - loss: 0.0708 - accuracy: 0.9779 - val_loss: 0.0416 - val_accuracy: 0.9870\n",
      "Epoch 22/25\n",
      "984/984 [==============================] - 16s 16ms/step - loss: 0.0703 - accuracy: 0.9785 - val_loss: 0.0464 - val_accuracy: 0.9854\n",
      "Epoch 23/25\n",
      "984/984 [==============================] - 16s 16ms/step - loss: 0.0700 - accuracy: 0.9780 - val_loss: 0.0429 - val_accuracy: 0.9868\n",
      "Epoch 24/25\n",
      "984/984 [==============================] - 17s 17ms/step - loss: 0.0680 - accuracy: 0.9779 - val_loss: 0.0408 - val_accuracy: 0.9865\n",
      "\n",
      "Epoch 00024: ReduceLROnPlateau reducing learning rate to 0.0002500000118743628.\n",
      "Epoch 25/25\n",
      "984/984 [==============================] - 16s 17ms/step - loss: 0.0649 - accuracy: 0.9797 - val_loss: 0.0371 - val_accuracy: 0.9890\n"
     ]
    }
   ],
   "source": [
    "lr_reduc = ReduceLROnPlateau(monitor='val_accuracy', patience=3, verbose=1, factor=0.5, min_lr=0.00001)\n",
    "\n",
    "history = model.fit(train_generator, validation_data = val_generator, batch_size=32, epochs=25, \\\n",
    "                    steps_per_epoch =X_train.shape[0]/32, callbacks=lr_reduc )"
   ]
  },
  {
   "cell_type": "code",
   "execution_count": 14,
   "id": "2b8bd4fe",
   "metadata": {
    "execution": {
     "iopub.execute_input": "2021-12-10T10:50:39.815158Z",
     "iopub.status.busy": "2021-12-10T10:50:39.814102Z",
     "iopub.status.idle": "2021-12-10T10:50:39.884330Z",
     "shell.execute_reply": "2021-12-10T10:50:39.883589Z",
     "shell.execute_reply.started": "2021-12-10T10:36:16.101338Z"
    },
    "papermill": {
     "duration": 1.522483,
     "end_time": "2021-12-10T10:50:39.884480",
     "exception": false,
     "start_time": "2021-12-10T10:50:38.361997",
     "status": "completed"
    },
    "tags": []
   },
   "outputs": [],
   "source": [
    "X_test = X_test/255\n",
    "\n",
    "index_number = df_test.index + 1 "
   ]
  },
  {
   "cell_type": "code",
   "execution_count": 15,
   "id": "1ec40af9",
   "metadata": {
    "execution": {
     "iopub.execute_input": "2021-12-10T10:50:42.785223Z",
     "iopub.status.busy": "2021-12-10T10:50:42.784265Z",
     "iopub.status.idle": "2021-12-10T10:50:44.180904Z",
     "shell.execute_reply": "2021-12-10T10:50:44.180052Z",
     "shell.execute_reply.started": "2021-12-10T10:35:24.046601Z"
    },
    "papermill": {
     "duration": 2.851228,
     "end_time": "2021-12-10T10:50:44.181046",
     "exception": false,
     "start_time": "2021-12-10T10:50:41.329818",
     "status": "completed"
    },
    "tags": []
   },
   "outputs": [],
   "source": [
    "predictions = model.predict(X_test)\n",
    "predictions = np.argmax(predictions, axis=-1)"
   ]
  },
  {
   "cell_type": "code",
   "execution_count": 16,
   "id": "6b0cac57",
   "metadata": {
    "execution": {
     "iopub.execute_input": "2021-12-10T10:50:47.129859Z",
     "iopub.status.busy": "2021-12-10T10:50:47.128990Z",
     "iopub.status.idle": "2021-12-10T10:50:47.177776Z",
     "shell.execute_reply": "2021-12-10T10:50:47.177305Z",
     "shell.execute_reply.started": "2021-12-10T10:36:50.802356Z"
    },
    "papermill": {
     "duration": 1.55119,
     "end_time": "2021-12-10T10:50:47.177889",
     "exception": false,
     "start_time": "2021-12-10T10:50:45.626699",
     "status": "completed"
    },
    "tags": []
   },
   "outputs": [
    {
     "name": "stdout",
     "output_type": "stream",
     "text": [
      "Your submission was successfully saved!\n"
     ]
    }
   ],
   "source": [
    "output = pd.DataFrame({'ImageId' : index_number, 'Label' : predictions})\n",
    "output.to_csv('my_submission.csv', index=False)\n",
    "print(\"Your submission was successfully saved!\")"
   ]
  }
 ],
 "metadata": {
  "kernelspec": {
   "display_name": "Python 3",
   "language": "python",
   "name": "python3"
  },
  "language_info": {
   "codemirror_mode": {
    "name": "ipython",
    "version": 3
   },
   "file_extension": ".py",
   "mimetype": "text/x-python",
   "name": "python",
   "nbconvert_exporter": "python",
   "pygments_lexer": "ipython3",
   "version": "3.7.12"
  },
  "papermill": {
   "default_parameters": {},
   "duration": 465.706806,
   "end_time": "2021-12-10T10:50:52.137099",
   "environment_variables": {},
   "exception": null,
   "input_path": "__notebook__.ipynb",
   "output_path": "__notebook__.ipynb",
   "parameters": {},
   "start_time": "2021-12-10T10:43:06.430293",
   "version": "2.3.3"
  }
 },
 "nbformat": 4,
 "nbformat_minor": 5
}
